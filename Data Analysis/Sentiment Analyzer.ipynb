{
 "cells": [
  {
   "cell_type": "code",
   "execution_count": 14,
   "metadata": {},
   "outputs": [],
   "source": [
    "\n",
    "'''\n",
    "Uses the twitter api to obtain the sentiment value for a specific keyword\n",
    "saves the sentiment analysis into a csv.\n",
    "'''\n",
    "# import dependencies\n",
    "import tweepy\n",
    "from textblob import TextBlob\n",
    "import csv\n",
    "\n",
    "#create the variables that are required by twitter for the api\n",
    "\n",
    "consumer_key = 'ogn8x8mfizy9bYmnpQ9wdb2VO'\n",
    "consumer_secret = 'zlqlDjdpRB41CROyOEs2kMLDH7RZ8tgmp7lVZvbpexblYfo12t'\n",
    "\n",
    "access_token = '988598618293616640-a6VMaEf820nJjz6bLVHAte8S53sINgy'\n",
    "access_token_secret = 'PlTX9rshpjxvERdswYDRBoFTgqG6TR6c4Ih5n4TZJVOaf'\n",
    "\n"
   ]
  },
  {
   "cell_type": "code",
   "execution_count": 15,
   "metadata": {},
   "outputs": [],
   "source": [
    "#authentication method for twitter\n",
    "auth = tweepy.OAuthHandler(consumer_key, consumer_secret)\n",
    "auth.set_access_token(access_token, access_token_secret)"
   ]
  },
  {
   "cell_type": "code",
   "execution_count": 16,
   "metadata": {},
   "outputs": [],
   "source": [
    "#main variables to get the info from twitter\n",
    "api = tweepy.API(auth)\n"
   ]
  },
  {
   "cell_type": "code",
   "execution_count": 18,
   "metadata": {},
   "outputs": [
    {
     "name": "stdout",
     "output_type": "stream",
     "text": [
      "When @thekatvond makes your day 😭😻🖤🖤🖤 thank you so much for this gift! #katvond I Love you! Your packaging is mind… https://t.co/2JtgHIoaEI\n",
      "Sentiment(polarity=0.4375, subjectivity=0.4)\n",
      "RT @PorterLex: Rocking my #KVDbrows from #Influenster in the shade “Walnut” which is the PERFECT shade for me! Thank you!! #katvond #katvon…\n",
      "Sentiment(polarity=1.0, subjectivity=1.0)\n",
      "@influenster @KatVonDBeauty #KVDBrows #HowIBrow #complimentary https://t.co/7ki629iQXh\n",
      "Sentiment(polarity=0.3, subjectivity=0.5)\n",
      "@influenster @KatVonDBeauty #KVDBrows #HowIBrow #complimentary https://t.co/rIAUyZsFXl\n",
      "Sentiment(polarity=0.3, subjectivity=0.5)\n",
      "Rocking my #KVDbrows from #Influenster in the shade “Walnut” which is the PERFECT shade for me! Thank you!!… https://t.co/i9JQe0rYOV\n",
      "Sentiment(polarity=1.0, subjectivity=1.0)\n",
      "Free product from Influenster!!!! @influenster @KatVonDBeauty #KVDBrows #HowIBrow #complimentary https://t.co/OBAmpPGRB6\n",
      "Sentiment(polarity=0.63828125, subjectivity=0.65)\n",
      "@influenster @KatVonDBeauty #KVDBrows #HowIBrow #complimentary https://t.co/MpnolhvYdn\n",
      "Sentiment(polarity=0.3, subjectivity=0.5)\n",
      "Didn't think I'd ever switch eyebrow products but thanks to @KATVONDbeauty and @InfluensterCA I found a new love fo… https://t.co/Kp0UXNA2rN\n",
      "Sentiment(polarity=0.2787878787878788, subjectivity=0.41818181818181815)\n",
      "@influenster @KatVonDBeauty #KVDBrows #HowIBrow #complimentary https://t.co/uMIBuv2hDZ\n",
      "Sentiment(polarity=0.3, subjectivity=0.5)\n",
      "Thanks @influenster for the #complimentary @KatVonDBeauty #KVDBrows #HowIBrow https://t.co/216aYos6gr\n",
      "Sentiment(polarity=0.25, subjectivity=0.35)\n",
      "RT @KATVONDbeauty: They're here 🤘🏽 Get your perfect #KVDBROWS tool from Pomade, Powder to Pencil TODAY on https://t.co/wZ1Z9o4vkq and @seph…\n",
      "Sentiment(polarity=1.0, subjectivity=1.0)\n",
      "@influenster @KatVonDBeauty #KVDBrows #HowIBrow #complimentary https://t.co/frsKGB5Jh3\n",
      "Sentiment(polarity=0.3, subjectivity=0.5)\n",
      "Just got my #KVDBrows 👍🏼 I can’t wait to test these out and let you all know… https://t.co/5OYm2GHFmX\n",
      "Sentiment(polarity=0.0, subjectivity=0.0)\n",
      "@influenster @KatVonDBeauty #KVDBrows #HowIBrow #complimentary https://t.co/sqjLXpg3oc\n",
      "Sentiment(polarity=0.3, subjectivity=0.5)\n",
      "RT @LiNdSaY6288: The new brow pomade from @KatVonDBeauty is a #gamechanger - it actually lasts! Tried it out during a HIIT class @ the gym…\n",
      "Sentiment(polarity=0.14545454545454545, subjectivity=0.18484848484848485)\n"
     ]
    },
    {
     "data": {
      "text/plain": [
       "' \\n    for tweet in public_tweets:\\n        print(tweet.text)\\n        analysis = TextBlob(tweet.text)\\n        print(analysis.sentiment)\\n'"
      ]
     },
     "execution_count": 18,
     "metadata": {},
     "output_type": "execute_result"
    }
   ],
   "source": [
    "#collect the tweets\n",
    "#gather the tweets that contain the word\n",
    "public_tweets = api.search('KVDBrows')\n",
    "\n",
    "#save sentiment to csv file\n",
    "with open(\"twittersent.txt\",'w') as scorefile:\n",
    "    scoreFileWriter = csv.writer(scorefile)\n",
    "    for tweet in public_tweets:\n",
    "        print(tweet.text)\n",
    "        analysis = TextBlob(tweet.text)\n",
    "        print(analysis.sentiment)\n",
    "        scoreFileWriter.writerow([tweet.text.encode('utf8'),analysis.sentiment])\n",
    "    \n",
    "    \n",
    "''' \n",
    "#Display the retreived tweet on screen without saving. \n",
    "    for tweet in public_tweets:\n",
    "        print(tweet.text)\n",
    "        analysis = TextBlob(tweet.text)\n",
    "        print(analysis.sentiment)\n",
    "'''  "
   ]
  },
  {
   "cell_type": "code",
   "execution_count": null,
   "metadata": {},
   "outputs": [],
   "source": []
  },
  {
   "cell_type": "code",
   "execution_count": null,
   "metadata": {},
   "outputs": [],
   "source": []
  }
 ],
 "metadata": {
  "kernelspec": {
   "display_name": "Python 3",
   "language": "python",
   "name": "python3"
  },
  "language_info": {
   "codemirror_mode": {
    "name": "ipython",
    "version": 3
   },
   "file_extension": ".py",
   "mimetype": "text/x-python",
   "name": "python",
   "nbconvert_exporter": "python",
   "pygments_lexer": "ipython3",
   "version": "3.6.4"
  }
 },
 "nbformat": 4,
 "nbformat_minor": 2
}
